{
 "cells": [
  {
   "cell_type": "markdown",
   "id": "permanent-cuisine",
   "metadata": {},
   "source": [
    "# Equal Weight S&P 500 Index\n",
    "### This program develops an equally weighted S&P 500 index (instead of market-cap weighted) based on the size of the user's portfolio"
   ]
  },
  {
   "cell_type": "code",
   "execution_count": 1,
   "id": "junior-brisbane",
   "metadata": {},
   "outputs": [],
   "source": [
    "import os\n",
    "import datetime\n",
    "import requests\n",
    "import pandas as pd\n",
    "from bs4 import BeautifulSoup"
   ]
  },
  {
   "cell_type": "code",
   "execution_count": 2,
   "id": "union-dispute",
   "metadata": {},
   "outputs": [],
   "source": [
    "# retrieve source using requests and turn it into BeautifulSoup object for parsing\n",
    "source = requests.get('https://en.wikipedia.org/wiki/List_of_S%26P_500_companies').text\n",
    "soup = BeautifulSoup(source, 'lxml')\n",
    "\n",
    "# get table with S&P 500 companies\n",
    "table = soup.find(id='constituents').find('tbody')\n",
    "rows = table.find_all('tr')\n",
    "# remove table header\n",
    "del rows[0]\n",
    "\n",
    "# get stock symbols from rows\n",
    "symbols = []\n",
    "for row in rows:\n",
    "\tsymbols.append(row.td.a.text)"
   ]
  },
  {
   "cell_type": "code",
   "execution_count": 3,
   "id": "ac153907-cca7-4bbc-8c6c-09853bdc5faa",
   "metadata": {},
   "outputs": [],
   "source": [
    "# use IEX API to get share prices for each stock\n",
    "share_prices = []\n",
    "comma_separated_symbols = ','.join(symbols)\n",
    "API_URL = f'https://api.iextrading.com/1.0/tops/last?symbols={comma_separated_symbols}'\n",
    "stocks = requests.get(API_URL).json()\n",
    "\n",
    "for stock in stocks:\n",
    "    share_prices.append(stock['price'])"
   ]
  },
  {
   "cell_type": "code",
   "execution_count": 5,
   "id": "hungarian-wages",
   "metadata": {},
   "outputs": [
    {
     "name": "stdin",
     "output_type": "stream",
     "text": [
      "What is the size of your protfolio (in USD)? 1000000\n",
      "Does your broker allow fractional shares (y/n)? y\n"
     ]
    }
   ],
   "source": [
    "# get user's portfolio size\n",
    "invalid = True\n",
    "while invalid:\n",
    "\tportfolio_size = input('What is the size of your protfolio (in USD)?')\n",
    "\n",
    "\ttry:\n",
    "\t\tportfolio_size = float(portfolio_size)\n",
    "\t\tinvalid = False\n",
    "\texcept ValueError:\n",
    "\t\tprint(\"That's not a number. Try again.\")\n",
    "\n",
    "invalid = True\n",
    "while invalid:\n",
    "    fractional_shares = input('Does your broker allow fractional shares (y/n)?')\n",
    "    \n",
    "    if fractional_shares == 'y' or fractional_shares == 'n':\n",
    "        invalid = False\n",
    "    else:\n",
    "        print(\"Please enter 'y' or 'no'\")"
   ]
  },
  {
   "cell_type": "code",
   "execution_count": 6,
   "id": "consecutive-crime",
   "metadata": {},
   "outputs": [],
   "source": [
    "# calculates equal amounts per share based on user's portfolio size and the price of each share\n",
    "amount_per_share = portfolio_size / len(symbols)\n",
    "shares_per_stock = []\n",
    "for share_price in share_prices:\n",
    "\tshares_per_stock.append(amount_per_share/share_price)\n",
    "\n",
    "if fractional_shares == 'n':\n",
    "    shares_per_stock = [int(i) for i in shares_per_stock]"
   ]
  },
  {
   "cell_type": "code",
   "execution_count": 15,
   "id": "947f6356-5ded-410d-bb70-c403ca2b8672",
   "metadata": {},
   "outputs": [],
   "source": [
    "# convert data into pandas DataFrame\n",
    "indices = [i for i in range(1, 506)]\n",
    "share_prices = [f'${i}' for i in share_prices]\n",
    "chart_data = {\n",
    "    'Symbol': symbols,\n",
    "    'Price Per Share': share_prices,\n",
    "    'Amount of Shares to Buy': shares_per_stock\n",
    "}\n",
    "\n",
    "chart = pd.DataFrame(data=chart_data, index=indices)"
   ]
  },
  {
   "cell_type": "code",
   "execution_count": 16,
   "id": "4f46038f-18cc-4049-a0bc-040caa1a6602",
   "metadata": {},
   "outputs": [],
   "source": [
    "# convert data to xlsx\n",
    "chart.to_excel('equal_weighted_SP500.xlsx', index=False)"
   ]
  }
 ],
 "metadata": {
  "kernelspec": {
   "display_name": "Python 3",
   "language": "python",
   "name": "python3"
  },
  "language_info": {
   "codemirror_mode": {
    "name": "ipython",
    "version": 3
   },
   "file_extension": ".py",
   "mimetype": "text/x-python",
   "name": "python",
   "nbconvert_exporter": "python",
   "pygments_lexer": "ipython3",
   "version": "3.8.5"
  }
 },
 "nbformat": 4,
 "nbformat_minor": 5
}
